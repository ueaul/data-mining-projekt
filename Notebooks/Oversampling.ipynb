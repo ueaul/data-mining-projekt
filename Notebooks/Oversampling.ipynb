{
 "cells": [
  {
   "cell_type": "code",
   "execution_count": 37,
   "id": "9388fbc3",
   "metadata": {},
   "outputs": [],
   "source": [
    "import pandas as pd\n",
    "from sklearn.preprocessing import OneHotEncoder\n",
    "from sklearn.utils import resample\n",
    "from scipy.sparse import csr_matrix\n",
    "from scipy.sparse import save_npz"
   ]
  },
  {
   "cell_type": "code",
   "execution_count": 38,
   "id": "7557ae36",
   "metadata": {},
   "outputs": [],
   "source": [
    "# Load the training data\n",
    "df_feature = pd.read_csv('ds_salaries_GeneralPreprocessing_train_csv.csv')\n",
    "df_target = pd.read_csv('ds_salaries_target_train.csv')"
   ]
  },
  {
   "cell_type": "code",
   "execution_count": 39,
   "id": "acb5afd8",
   "metadata": {},
   "outputs": [],
   "source": [
    "df_train_complete = pd.concat([df_feature, df_target], axis=1)"
   ]
  },
  {
   "cell_type": "code",
   "execution_count": 40,
   "id": "8c666814",
   "metadata": {},
   "outputs": [],
   "source": [
    "# Oversample using RESAMPLE\n",
    "def oversample_data(df_input):\n",
    "    # Separate majority and minority classes\n",
    "    df_majority = df_input[df_input.employment_type_FT==1.0]\n",
    "    df_minority_FL = df_input[df_input.employment_type_FL==1.0]\n",
    "    df_minority_CT = df_input[df_input.employment_type_CT==1.0]\n",
    "    df_minority_PT = df_input[df_input.employment_type_PT==1.0]\n",
    "\n",
    "    # Upsample minority classes\n",
    "    df_minority_FL_upsampled = resample(df_minority_FL, \n",
    "                                     replace=True,    # sample with replacement\n",
    "                                     n_samples=len(df_majority),  # to match majority class\n",
    "                                     random_state=123) # reproducible results\n",
    "\n",
    "    df_minority_CT_upsampled = resample(df_minority_CT, \n",
    "                                     replace=True,    # sample with replacement\n",
    "                                     n_samples=len(df_majority),  # to match majority class\n",
    "                                     random_state=123) # reproducible results\n",
    "    \n",
    "    df_minority_PT_upsampled = resample(df_minority_PT, \n",
    "                                     replace=True,    # sample with replacement\n",
    "                                     n_samples=len(df_majority),  # to match majority class\n",
    "                                     random_state=123) # reproducible results\n",
    "\n",
    "    # Combine majority class with upsampled minority classes\n",
    "    df_upsampled = pd.concat([df_majority, df_minority_FL_upsampled, df_minority_CT_upsampled, df_minority_PT_upsampled])\n",
    "    \n",
    "    return df_upsampled\n",
    "\n",
    "df_train_oversampled = oversample_data(df_train_complete)"
   ]
  },
  {
   "cell_type": "code",
   "execution_count": 41,
   "id": "084a1806",
   "metadata": {},
   "outputs": [],
   "source": [
    "df_train_oversampled_features = df_train_oversampled.drop(['salary_in_usd'], axis=1)\n",
    "df_train_oversampled_features = csr_matrix(df_train_oversampled_features.values)\n",
    "df_train_oversampled_target = df_train_oversampled['salary_in_usd']"
   ]
  },
  {
   "cell_type": "code",
   "execution_count": 42,
   "id": "7abdf155",
   "metadata": {},
   "outputs": [],
   "source": [
    "save_npz('./ds_salaries_Oversampling_features_train.npz', df_train_oversampled_features)\n",
    "df_train_oversampled_target.to_csv('./ds_salaries_Oversampling_target_train.csv', index=False)"
   ]
  },
  {
   "cell_type": "code",
   "execution_count": null,
   "id": "30dbe01f",
   "metadata": {},
   "outputs": [],
   "source": []
  }
 ],
 "metadata": {
  "kernelspec": {
   "display_name": "Python 3 (ipykernel)",
   "language": "python",
   "name": "python3"
  },
  "language_info": {
   "codemirror_mode": {
    "name": "ipython",
    "version": 3
   },
   "file_extension": ".py",
   "mimetype": "text/x-python",
   "name": "python",
   "nbconvert_exporter": "python",
   "pygments_lexer": "ipython3",
   "version": "3.9.13"
  }
 },
 "nbformat": 4,
 "nbformat_minor": 5
}
