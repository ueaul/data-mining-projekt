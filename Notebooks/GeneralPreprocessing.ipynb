{
 "cells": [
  {
   "cell_type": "code",
   "execution_count": 1,
   "metadata": {},
   "outputs": [],
   "source": [
    "import pandas as pd\n",
    "df = pd.read_csv(\"./ds_salaries.csv\")"
   ]
  },
  {
   "cell_type": "code",
   "execution_count": 2,
   "metadata": {},
   "outputs": [],
   "source": [
    "df_features = df.copy(deep=True)\n",
    "target = df_features[\"salary_in_usd\"]\n",
    "df_features.drop([\"salary\", \"salary_in_usd\"], axis=1, inplace=True)"
   ]
  },
  {
   "cell_type": "markdown",
   "metadata": {},
   "source": [
    "# Create preprocessor"
   ]
  },
  {
   "cell_type": "code",
   "execution_count": 3,
   "metadata": {},
   "outputs": [
    {
     "name": "stdout",
     "output_type": "stream",
     "text": [
      "  (0, 3)\t1.0\n",
      "  (0, 6)\t1.0\n",
      "  (0, 10)\t1.0\n",
      "  (0, 95)\t1.0\n",
      "  (0, 111)\t1.0\n",
      "  (0, 150)\t1.0\n",
      "  (0, 227)\t1.0\n",
      "  (0, 274)\t1.0\n",
      "  (0, 280)\t1.0\n",
      "  (1, 3)\t1.0\n",
      "  (1, 4)\t1.0\n",
      "  (1, 10)\t1.0\n",
      "  (1, 77)\t1.0\n",
      "  (1, 123)\t1.0\n",
      "  (1, 199)\t1.0\n",
      "  (1, 272)\t1.0\n",
      "  (1, 276)\t1.0\n",
      "  (1, 279)\t1.0\n",
      "  (2, 3)\t1.0\n",
      "  (2, 4)\t1.0\n",
      "  (2, 10)\t1.0\n",
      "  (2, 77)\t1.0\n",
      "  (2, 123)\t1.0\n",
      "  (2, 199)\t1.0\n",
      "  (2, 272)\t1.0\n",
      "  :\t:\n",
      "  (3752, 10)\t1.0\n",
      "  (3752, 58)\t1.0\n",
      "  (3752, 123)\t1.0\n",
      "  (3752, 199)\t1.0\n",
      "  (3752, 272)\t1.0\n",
      "  (3752, 276)\t1.0\n",
      "  (3752, 277)\t1.0\n",
      "  (3753, 0)\t1.0\n",
      "  (3753, 4)\t1.0\n",
      "  (3753, 10)\t1.0\n",
      "  (3753, 28)\t1.0\n",
      "  (3753, 123)\t1.0\n",
      "  (3753, 199)\t1.0\n",
      "  (3753, 272)\t1.0\n",
      "  (3753, 274)\t1.0\n",
      "  (3753, 277)\t1.0\n",
      "  (3754, 1)\t1.0\n",
      "  (3754, 6)\t1.0\n",
      "  (3754, 9)\t1.0\n",
      "  (3754, 56)\t1.0\n",
      "  (3754, 116)\t1.0\n",
      "  (3754, 163)\t1.0\n",
      "  (3754, 240)\t1.0\n",
      "  (3754, 274)\t1.0\n",
      "  (3754, 280)\t1.0\n"
     ]
    }
   ],
   "source": [
    "from sklearn.preprocessing import OneHotEncoder, OrdinalEncoder\n",
    "from sklearn.compose import ColumnTransformer\n",
    "\n",
    "oneHot_features = [\"work_year\", \"employment_type\", \"remote_ratio\", \"job_title\", \"salary_currency\", \"employee_residence\", \"company_location\",\"company_size\", \"experience_level\"]\n",
    "preprocessor = ColumnTransformer(transformers=[\n",
    "    ('cat', OneHotEncoder(), oneHot_features),\n",
    "    ])\n",
    "df_preprocessed = preprocessor.fit_transform(df_features)\n",
    "print(df_preprocessed)"
   ]
  },
  {
   "cell_type": "markdown",
   "metadata": {},
   "source": [
    "# Export CSVs"
   ]
  },
  {
   "cell_type": "code",
   "execution_count": 4,
   "metadata": {},
   "outputs": [],
   "source": [
    "from scipy.sparse import save_npz\n",
    "\n",
    "save_npz('./ds_salaries_GeneralPreprocessing.npz', df_preprocessed)\n",
    "\n",
    "target.to_csv('./ds_salaries_target.csv', index=False)"
   ]
  },
  {
   "cell_type": "code",
   "execution_count": null,
   "metadata": {},
   "outputs": [],
   "source": []
  }
 ],
 "metadata": {
  "kernelspec": {
   "display_name": "Python 3 (ipykernel)",
   "language": "python",
   "name": "python3"
  },
  "language_info": {
   "codemirror_mode": {
    "name": "ipython",
    "version": 3
   },
   "file_extension": ".py",
   "mimetype": "text/x-python",
   "name": "python",
   "nbconvert_exporter": "python",
   "pygments_lexer": "ipython3",
   "version": "3.9.13"
  }
 },
 "nbformat": 4,
 "nbformat_minor": 2
}
