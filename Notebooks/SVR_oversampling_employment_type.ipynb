{
 "cells": [
  {
   "cell_type": "code",
   "execution_count": 1,
   "id": "5b2b3264",
   "metadata": {},
   "outputs": [],
   "source": [
    "# Import necessary libraries\n",
    "import pandas as pd\n",
    "import numpy as np\n",
    "from sklearn import preprocessing\n",
    "from sklearn.model_selection import train_test_split, GridSearchCV\n",
    "from sklearn.svm import SVR\n",
    "from sklearn.metrics import mean_squared_error, r2_score\n",
    "from imblearn.over_sampling import SMOTE\n",
    "from imblearn.over_sampling import RandomOverSampler\n",
    "from sklearn.utils import resample\n",
    "from sklearn.compose import ColumnTransformer\n",
    "from sklearn.pipeline import Pipeline\n",
    "from sklearn.preprocessing import OneHotEncoder\n",
    "from sklearn.model_selection import cross_val_score\n",
    "from scipy.sparse import csr_matrix"
   ]
  },
  {
   "cell_type": "code",
   "execution_count": 2,
   "id": "acb0b85a",
   "metadata": {
    "scrolled": false
   },
   "outputs": [],
   "source": [
    "# Load your dataset\n",
    "df = pd.read_csv('ds_salaries.csv')\n",
    "df = df.drop(['salary'], axis=1)"
   ]
  },
  {
   "cell_type": "code",
   "execution_count": 3,
   "id": "9833fb57",
   "metadata": {},
   "outputs": [],
   "source": [
    "# Preprocessing\n",
    "# Split the dataset into training and test data\n",
    "df_target = df['salary_in_usd']\n",
    "\n",
    "# Remove target variable from the DataFrame\n",
    "df_features = df.drop('salary_in_usd', axis=1)\n",
    "\n",
    "# Initialize the OneHotEncoder from sklearn\n",
    "encoder = OneHotEncoder(sparse=False)\n",
    "\n",
    "# Fit and transform the features DataFrame\n",
    "df_features_encoded = encoder.fit_transform(df_features)\n",
    "\n",
    "# Convert the array back to a DataFrame\n",
    "df_features_encoded = pd.DataFrame(df_features_encoded, columns=encoder.get_feature_names_out(df_features.columns))\n",
    "\n",
    "# Add the target variable back to the DataFrame\n",
    "df_preprocessed = pd.concat([df_features_encoded, df_target], axis=1)"
   ]
  },
  {
   "cell_type": "code",
   "execution_count": 4,
   "id": "3c627831",
   "metadata": {},
   "outputs": [],
   "source": [
    "# Split the dataset\n",
    "df_train, df_test = train_test_split(df_preprocessed, test_size=0.3, random_state=42)"
   ]
  },
  {
   "cell_type": "code",
   "execution_count": 5,
   "id": "31c0aadb",
   "metadata": {},
   "outputs": [],
   "source": [
    "# Copy train dataset for a comparison without oversampling\n",
    "df_train_without_oversampling = df_train.copy()"
   ]
  },
  {
   "cell_type": "code",
   "execution_count": 6,
   "id": "6483b172",
   "metadata": {
    "scrolled": true
   },
   "outputs": [],
   "source": [
    "# Oversample using RESAMPLE\n",
    "def oversample_data(df_input):\n",
    "    # Separate majority and minority classes\n",
    "    df_majority = df_input[df_input.employment_type_FT==1.0]\n",
    "    df_minority_FL = df_input[df_input.employment_type_FL==1.0]\n",
    "    df_minority_CT = df_input[df_input.employment_type_CT==1.0]\n",
    "    df_minority_PT = df_input[df_input.employment_type_PT==1.0]\n",
    "\n",
    "    # Upsample minority classes\n",
    "    df_minority_FL_upsampled = resample(df_minority_FL, \n",
    "                                     replace=True,    # sample with replacement\n",
    "                                     n_samples=len(df_majority),  # to match majority class\n",
    "                                     random_state=123) # reproducible results\n",
    "\n",
    "    df_minority_CT_upsampled = resample(df_minority_CT, \n",
    "                                     replace=True,    # sample with replacement\n",
    "                                     n_samples=len(df_majority),  # to match majority class\n",
    "                                     random_state=123) # reproducible results\n",
    "    \n",
    "    df_minority_PT_upsampled = resample(df_minority_PT, \n",
    "                                     replace=True,    # sample with replacement\n",
    "                                     n_samples=len(df_majority),  # to match majority class\n",
    "                                     random_state=123) # reproducible results\n",
    "\n",
    "    # Combine majority class with upsampled minority classes\n",
    "    df_upsampled = pd.concat([df_majority, df_minority_FL_upsampled, df_minority_CT_upsampled, df_minority_PT_upsampled])\n",
    "    \n",
    "    return df_upsampled\n",
    "\n",
    "df_train = oversample_data(df_train)"
   ]
  },
  {
   "cell_type": "code",
   "execution_count": 7,
   "id": "d7371255",
   "metadata": {},
   "outputs": [],
   "source": [
    "# Prepare the data for model training\n",
    "X_train = df_train.drop(['salary_in_usd'], axis=1)\n",
    "y_train = df_train['salary_in_usd']\n",
    "X_test = df_test.drop(['salary_in_usd'], axis=1)\n",
    "y_test = df_test['salary_in_usd']\n",
    "\n",
    "X_train_without_oversampling = df_train_without_oversampling.drop(['salary_in_usd'], axis=1)\n",
    "y_train_without_oversampling = df_train_without_oversampling['salary_in_usd']\n",
    "\n",
    "X_train = csr_matrix(X_train.values)\n",
    "X_test = csr_matrix(X_test.values)\n",
    "X_train_without_oversampling = csr_matrix(X_train_without_oversampling.values)"
   ]
  },
  {
   "cell_type": "code",
   "execution_count": null,
   "id": "9d45879d",
   "metadata": {
    "scrolled": false
   },
   "outputs": [
    {
     "name": "stdout",
     "output_type": "stream",
     "text": [
      "Fitting 5 folds for each of 48 candidates, totalling 240 fits\n",
      "[CV 1/5] END .......C=0.1, gamma=1, kernel=rbf;, score=-2.089 total time=   3.1s\n",
      "[CV 2/5] END .......C=0.1, gamma=1, kernel=rbf;, score=-0.151 total time=   3.5s\n",
      "[CV 3/5] END .......C=0.1, gamma=1, kernel=rbf;, score=-0.101 total time=   3.6s\n",
      "[CV 4/5] END .......C=0.1, gamma=1, kernel=rbf;, score=-0.106 total time=   3.6s\n",
      "[CV 5/5] END .......C=0.1, gamma=1, kernel=rbf;, score=-2.229 total time=   3.5s\n",
      "[CV 1/5] END ......C=0.1, gamma=1, kernel=poly;, score=-1.335 total time=   2.8s\n",
      "[CV 2/5] END .......C=0.1, gamma=1, kernel=poly;, score=0.403 total time=   3.3s\n",
      "[CV 3/5] END .......C=0.1, gamma=1, kernel=poly;, score=0.035 total time=   3.1s\n",
      "[CV 4/5] END .......C=0.1, gamma=1, kernel=poly;, score=0.009 total time=   3.0s\n",
      "[CV 5/5] END ......C=0.1, gamma=1, kernel=poly;, score=-0.716 total time=   3.2s\n",
      "[CV 1/5] END ...C=0.1, gamma=1, kernel=sigmoid;, score=-2.087 total time=   4.0s\n",
      "[CV 2/5] END ...C=0.1, gamma=1, kernel=sigmoid;, score=-0.151 total time=   4.1s\n",
      "[CV 3/5] END ...C=0.1, gamma=1, kernel=sigmoid;, score=-0.101 total time=   4.1s\n",
      "[CV 4/5] END ...C=0.1, gamma=1, kernel=sigmoid;, score=-0.107 total time=   4.1s\n",
      "[CV 5/5] END ...C=0.1, gamma=1, kernel=sigmoid;, score=-2.227 total time=   4.0s\n",
      "[CV 1/5] END .....C=0.1, gamma=0.1, kernel=rbf;, score=-2.088 total time=   3.2s\n",
      "[CV 2/5] END .....C=0.1, gamma=0.1, kernel=rbf;, score=-0.150 total time=   3.6s\n",
      "[CV 3/5] END .....C=0.1, gamma=0.1, kernel=rbf;, score=-0.101 total time=   3.7s\n",
      "[CV 4/5] END .....C=0.1, gamma=0.1, kernel=rbf;, score=-0.106 total time=   3.6s\n",
      "[CV 5/5] END .....C=0.1, gamma=0.1, kernel=rbf;, score=-2.224 total time=   3.5s\n",
      "[CV 1/5] END ....C=0.1, gamma=0.1, kernel=poly;, score=-2.088 total time=   3.0s\n",
      "[CV 2/5] END ....C=0.1, gamma=0.1, kernel=poly;, score=-0.150 total time=   3.4s\n",
      "[CV 3/5] END ....C=0.1, gamma=0.1, kernel=poly;, score=-0.101 total time=   3.4s\n",
      "[CV 4/5] END ....C=0.1, gamma=0.1, kernel=poly;, score=-0.106 total time=   3.4s\n",
      "[CV 5/5] END ....C=0.1, gamma=0.1, kernel=poly;, score=-2.226 total time=   3.3s\n",
      "[CV 1/5] END .C=0.1, gamma=0.1, kernel=sigmoid;, score=-2.088 total time=   3.6s\n"
     ]
    }
   ],
   "source": [
    "# Define the model\n",
    "svr = SVR()\n",
    "svr_without_oversampling = SVR()\n",
    "\n",
    "# Define the hyperparameters\n",
    "param_grid = {'C': [0.1, 1, 10, 100], 'gamma': [1, 0.1, 0.01, 0.001], 'kernel': ['rbf', 'poly', 'sigmoid']}\n",
    "param_grind_without_oversampling = {'C': [0.1, 1, 10, 100], 'gamma': [1, 0.1, 0.01, 0.001], 'kernel': ['rbf', 'poly', 'sigmoid']}\n",
    "\n",
    "# Use GridSearchCV to find the optimal hyperparameters\n",
    "grid = GridSearchCV(svr, param_grid, verbose=3)\n",
    "grid_without_oversampling = GridSearchCV(svr_without_oversampling, param_grind_without_oversampling, verbose=3)\n",
    "\n",
    "# Fit the model on the training data\n",
    "grid.fit(X_train, y_train)\n",
    "grid_without_oversampling.fit(X_train_without_oversampling, y_train_without_oversampling)\n",
    "\n",
    "# Get the optimal hyperparameters\n",
    "print(grid.best_params_)\n",
    "print(grid_without_oversampling.best_params_)"
   ]
  },
  {
   "cell_type": "code",
   "execution_count": null,
   "id": "6519c22e",
   "metadata": {},
   "outputs": [],
   "source": [
    "# Make predictions using the test set\n",
    "y_pred = grid.predict(X_test)\n",
    "y_pred_without_oversampling = grid_without_oversampling.predict(X_test)\n",
    "\n",
    "# Evaluate the model\n",
    "mse = mean_squared_error(y_test, y_pred)\n",
    "mse_without_oversampling = mean_squared_error(y_test, y_pred_without_oversampling)\n",
    "r2 = r2_score(y_test, y_pred)\n",
    "r2_without_oversampling = r2_score(y_test, y_pred_without_oversampling)\n",
    "\n",
    "print(\"With oversampling\")\n",
    "print('Mean Squared Error:', mse)\n",
    "print('R^2 Score:', r2)\n",
    "print('_____________')\n",
    "print(\"Without oversampling\")\n",
    "print('Mean Squared Error:', mse_without_oversampling)\n",
    "print('R^2 Score:', r2_without_oversampling)"
   ]
  },
  {
   "cell_type": "code",
   "execution_count": null,
   "id": "c7d84b49",
   "metadata": {},
   "outputs": [],
   "source": []
  }
 ],
 "metadata": {
  "kernelspec": {
   "display_name": "Python 3 (ipykernel)",
   "language": "python",
   "name": "python3"
  },
  "language_info": {
   "codemirror_mode": {
    "name": "ipython",
    "version": 3
   },
   "file_extension": ".py",
   "mimetype": "text/x-python",
   "name": "python",
   "nbconvert_exporter": "python",
   "pygments_lexer": "ipython3",
   "version": "3.9.13"
  }
 },
 "nbformat": 4,
 "nbformat_minor": 5
}
