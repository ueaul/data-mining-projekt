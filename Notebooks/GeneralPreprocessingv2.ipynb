{
 "cells": [
  {
   "cell_type": "code",
   "execution_count": 1,
   "metadata": {},
   "outputs": [],
   "source": [
    "import pandas as pd\n",
    "df = pd.read_csv(\"./ds_salaries.csv\")"
   ]
  },
  {
   "cell_type": "code",
   "execution_count": 2,
   "metadata": {},
   "outputs": [],
   "source": [
    "df_features = df.copy(deep=True)\n",
    "target = df_features[\"salary_in_usd\"]\n",
    "df_features.drop([\"salary\", \"salary_in_usd\"], axis=1, inplace=True)"
   ]
  },
  {
   "cell_type": "markdown",
   "metadata": {},
   "source": [
    "# Create preprocessor"
   ]
  },
  {
   "cell_type": "code",
   "execution_count": 3,
   "metadata": {},
   "outputs": [
    {
     "name": "stdout",
     "output_type": "stream",
     "text": [
      "TEST\n"
     ]
    }
   ],
   "source": [
    "from sklearn.preprocessing import OneHotEncoder, OrdinalEncoder\n",
    "from sklearn.compose import ColumnTransformer\n",
    "\n",
    "oneHot_features = [\"work_year\", \"employment_type\", \"remote_ratio\", \"job_title\", \"salary_currency\", \"employee_residence\", \"company_location\",\"company_size\", \"experience_level\"]\n",
    "preprocessor = ColumnTransformer(transformers=[\n",
    "    ('cat', OneHotEncoder(), oneHot_features),\n",
    "    ])\n",
    "df_preprocessed = preprocessor.fit_transform(df_features)\n",
    "print(\"TEST\")"
   ]
  },
  {
   "cell_type": "markdown",
   "metadata": {},
   "source": [
    "# Export CSVs"
   ]
  },
  {
   "cell_type": "code",
   "execution_count": 4,
   "metadata": {},
   "outputs": [
    {
     "name": "stdout",
     "output_type": "stream",
     "text": [
      "0       1\n",
      "1       0\n",
      "2       0\n",
      "3       2\n",
      "4       1\n",
      "       ..\n",
      "3750    5\n",
      "3751    1\n",
      "3752    1\n",
      "3753    1\n",
      "3754    1\n",
      "Name: salary_in_usd, Length: 3755, dtype: int64\n"
     ]
    }
   ],
   "source": [
    "from sklearn.model_selection import train_test_split\n",
    "\n",
    "target_stratifie = pd.cut(target, bins=6, labels=False)\n",
    "\n",
    "print(target_stratifie)"
   ]
  },
  {
   "cell_type": "code",
   "execution_count": 5,
   "metadata": {},
   "outputs": [
    {
     "name": "stdout",
     "output_type": "stream",
     "text": [
      "1    1376\n",
      "2     848\n",
      "0     537\n",
      "3     211\n",
      "4      24\n",
      "5       8\n",
      "Name: salary_in_usd, dtype: int64\n"
     ]
    }
   ],
   "source": [
    "\n",
    "# Split into 80/20 Training / Testing\n",
    "X_train, X_Holdtout, target_train, target_Holdout = train_test_split(df_preprocessed, target, test_size=0.2,stratify = target_stratifie,random_state=42)\n",
    "test = pd.cut(target_train, bins=6, labels=False)\n",
    "bin_counts = test.value_counts()\n",
    "print(bin_counts)"
   ]
  },
  {
   "cell_type": "code",
   "execution_count": 6,
   "metadata": {},
   "outputs": [],
   "source": [
    "from scipy.sparse import save_npz\n",
    "\n",
    "save_npz('./ds_salaries_GeneralPreprocessing_train.npz', X_train)\n",
    "\n",
    "target_train.to_csv('./ds_salaries_target_train.csv', index=False)\n",
    "\n",
    "\n",
    "save_npz('./ds_salaries_GeneralPreprocessing_test.npz', X_Holdtout)\n",
    "\n",
    "target_Holdout.to_csv('./ds_salaries_target_test.csv', index=False)\n"
   ]
  },
  {
   "cell_type": "code",
   "execution_count": null,
   "metadata": {},
   "outputs": [],
   "source": []
  }
 ],
 "metadata": {
  "kernelspec": {
   "display_name": "Python 3 (ipykernel)",
   "language": "python",
   "name": "python3"
  },
  "language_info": {
   "codemirror_mode": {
    "name": "ipython",
    "version": 3
   },
   "file_extension": ".py",
   "mimetype": "text/x-python",
   "name": "python",
   "nbconvert_exporter": "python",
   "pygments_lexer": "ipython3",
   "version": "3.9.13"
  }
 },
 "nbformat": 4,
 "nbformat_minor": 2
}
