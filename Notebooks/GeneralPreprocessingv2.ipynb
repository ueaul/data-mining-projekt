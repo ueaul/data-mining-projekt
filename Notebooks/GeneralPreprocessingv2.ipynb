{
 "cells": [
  {
   "cell_type": "code",
   "execution_count": 10,
   "metadata": {},
   "outputs": [],
   "source": [
    "import pandas as pd\n",
    "df = pd.read_csv(\"./ds_salaries.csv\")"
   ]
  },
  {
   "cell_type": "code",
   "execution_count": 11,
   "metadata": {},
   "outputs": [],
   "source": [
    "df_features = df.copy(deep=True)\n",
    "target = df_features[\"salary_in_usd\"]\n",
    "df_features.drop([\"salary\", \"salary_in_usd\"], axis=1, inplace=True)"
   ]
  },
  {
   "attachments": {},
   "cell_type": "markdown",
   "metadata": {},
   "source": [
    "# Create preprocessor"
   ]
  },
  {
   "cell_type": "code",
   "execution_count": 12,
   "metadata": {},
   "outputs": [
    {
     "name": "stdout",
     "output_type": "stream",
     "text": [
      "TEST\n"
     ]
    }
   ],
   "source": [
    "from sklearn.preprocessing import OneHotEncoder, OrdinalEncoder\n",
    "from sklearn.compose import ColumnTransformer\n",
    "\n",
    "one_hot_features = [\"work_year\", \"employment_type\", \"remote_ratio\", \"job_title\", \"salary_currency\", \"employee_residence\", \"company_location\",\"company_size\", \"experience_level\"]\n",
    "preprocessor = ColumnTransformer(transformers=[\n",
    "    ('cat', OneHotEncoder(), one_hot_features),\n",
    "    ])\n",
    "df_preprocessed = preprocessor.fit_transform(df_features)\n",
    "print(\"TEST\")"
   ]
  },
  {
   "attachments": {},
   "cell_type": "markdown",
   "metadata": {},
   "source": [
    "# Export CSVs"
   ]
  },
  {
   "cell_type": "code",
   "execution_count": 13,
   "metadata": {},
   "outputs": [
    {
     "name": "stdout",
     "output_type": "stream",
     "text": [
      "0       1\n",
      "1       0\n",
      "2       0\n",
      "3       2\n",
      "4       1\n",
      "       ..\n",
      "3750    5\n",
      "3751    1\n",
      "3752    1\n",
      "3753    1\n",
      "3754    1\n",
      "Name: salary_in_usd, Length: 3755, dtype: int64\n"
     ]
    }
   ],
   "source": [
    "from sklearn.model_selection import train_test_split\n",
    "\n",
    "target_stratified = pd.cut(target, bins=6, labels=False)\n",
    "\n",
    "print(target_stratified)"
   ]
  },
  {
   "cell_type": "code",
   "execution_count": 14,
   "metadata": {},
   "outputs": [],
   "source": [
    "\n",
    "# Split into 80/20 Training / Testing\n",
    "X_train, X_holdout, target_train, target_holdout = train_test_split(df_preprocessed, target, test_size=0.2, stratify=target_stratified, random_state=42)"
   ]
  },
  {
   "cell_type": "code",
   "execution_count": 17,
   "metadata": {},
   "outputs": [
    {
     "data": {
      "text/plain": [
       "count      3004.000000\n",
       "mean     137618.293276\n",
       "std       63197.005158\n",
       "min        5132.000000\n",
       "25%       95000.000000\n",
       "50%      135000.000000\n",
       "75%      176000.000000\n",
       "max      450000.000000\n",
       "Name: salary_in_usd, dtype: float64"
      ]
     },
     "metadata": {},
     "output_type": "display_data"
    },
    {
     "data": {
      "text/plain": [
       "count       751.000000\n",
       "mean     137378.776298\n",
       "std       62528.373939\n",
       "min        6072.000000\n",
       "25%       95275.000000\n",
       "50%      136000.000000\n",
       "75%      175000.000000\n",
       "max      423000.000000\n",
       "Name: salary_in_usd, dtype: float64"
      ]
     },
     "metadata": {},
     "output_type": "display_data"
    }
   ],
   "source": [
    "from scipy.sparse import save_npz\n",
    "\n",
    "save_npz('./ds_salaries_GeneralPreprocessing_train.npz', X_train)\n",
    "\n",
    "target_train.to_csv('./ds_salaries_target_train.csv', index=False)\n",
    "\n",
    "\n",
    "save_npz('./ds_salaries_GeneralPreprocessing_test.npz', X_holdout)\n",
    "\n",
    "target_holdout.to_csv('./ds_salaries_target_test.csv', index=False)\n",
    "\n",
    "display(target_train.describe())\n",
    "display(target_holdout.describe())\n",
    "\n"
   ]
  }
 ],
 "metadata": {
  "kernelspec": {
   "display_name": "Python 3 (ipykernel)",
   "language": "python",
   "name": "python3"
  },
  "language_info": {
   "codemirror_mode": {
    "name": "ipython",
    "version": 3
   },
   "file_extension": ".py",
   "mimetype": "text/x-python",
   "name": "python",
   "nbconvert_exporter": "python",
   "pygments_lexer": "ipython3",
   "version": "3.8.5"
  }
 },
 "nbformat": 4,
 "nbformat_minor": 2
}
