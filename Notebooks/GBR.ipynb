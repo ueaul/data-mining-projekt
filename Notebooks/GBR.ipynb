{
 "cells": [
  {
   "cell_type": "code",
   "execution_count": 31,
   "metadata": {},
   "outputs": [],
   "source": [
    "import pandas as pd\n",
    "from scipy.sparse import load_npz\n",
    "\n",
    "df_preprocessed_general = load_npz('./ds_salaries_GeneralPreprocessing.npz')\n",
    "target = pd.read_csv(\"./ds_salaries_target.csv\")"
   ]
  },
  {
   "cell_type": "markdown",
   "metadata": {},
   "source": [
    "# Baseline Model (Linear Regression)"
   ]
  },
  {
   "cell_type": "code",
   "execution_count": 32,
   "metadata": {
    "scrolled": false
   },
   "outputs": [
    {
     "name": "stdout",
     "output_type": "stream",
     "text": [
      "Variante1\n",
      "0.39823610106618296\n",
      "2390630578.4489965\n"
     ]
    }
   ],
   "source": [
    "from sklearn.linear_model import LinearRegression\n",
    "from sklearn.pipeline import Pipeline\n",
    "from sklearn.metrics import r2_score, mean_squared_error\n",
    "from sklearn.model_selection import cross_val_score, KFold\n",
    "import numpy as np\n",
    "\n",
    "estimator = LinearRegression()\n",
    "\n",
    "steps = [('estimator', estimator)]\n",
    "\n",
    "pipeline = Pipeline(steps)\n",
    "\n",
    "kfold = KFold(n_splits=5, shuffle=True, random_state=42)\n",
    "\n",
    "r2_scores = cross_val_score(pipeline, df_preprocessed_general, target, cv=kfold, scoring='r2')\n",
    "mse_scores = -cross_val_score(pipeline, df_preprocessed_general, target, cv=kfold, scoring='neg_mean_squared_error')\n",
    "\n",
    "print(\"Variante1\")\n",
    "print(np.mean(r2_scores))\n",
    "print(np.mean(mse_scores))\n"
   ]
  },
  {
   "cell_type": "markdown",
   "metadata": {},
   "source": [
    "# init Model"
   ]
  },
  {
   "cell_type": "code",
   "execution_count": 34,
   "metadata": {},
   "outputs": [],
   "source": [
    "from sklearn.ensemble import GradientBoostingRegressor\n",
    "from sklearn.svm import SVR\n",
    "\n",
    "estimator = GradientBoostingRegressor()"
   ]
  },
  {
   "cell_type": "markdown",
   "metadata": {},
   "source": [
    "# Execute pipeline and evaluate"
   ]
  },
  {
   "cell_type": "code",
   "execution_count": 35,
   "metadata": {
    "scrolled": false
   },
   "outputs": [
    {
     "name": "stderr",
     "output_type": "stream",
     "text": [
      "C:\\Users\\timbl\\AppData\\Roaming\\Python\\Python310\\site-packages\\sklearn\\ensemble\\_gb.py:437: DataConversionWarning: A column-vector y was passed when a 1d array was expected. Please change the shape of y to (n_samples, ), for example using ravel().\n",
      "  y = column_or_1d(y, warn=True)\n",
      "C:\\Users\\timbl\\AppData\\Roaming\\Python\\Python310\\site-packages\\sklearn\\ensemble\\_gb.py:437: DataConversionWarning: A column-vector y was passed when a 1d array was expected. Please change the shape of y to (n_samples, ), for example using ravel().\n",
      "  y = column_or_1d(y, warn=True)\n",
      "C:\\Users\\timbl\\AppData\\Roaming\\Python\\Python310\\site-packages\\sklearn\\ensemble\\_gb.py:437: DataConversionWarning: A column-vector y was passed when a 1d array was expected. Please change the shape of y to (n_samples, ), for example using ravel().\n",
      "  y = column_or_1d(y, warn=True)\n",
      "C:\\Users\\timbl\\AppData\\Roaming\\Python\\Python310\\site-packages\\sklearn\\ensemble\\_gb.py:437: DataConversionWarning: A column-vector y was passed when a 1d array was expected. Please change the shape of y to (n_samples, ), for example using ravel().\n",
      "  y = column_or_1d(y, warn=True)\n",
      "C:\\Users\\timbl\\AppData\\Roaming\\Python\\Python310\\site-packages\\sklearn\\ensemble\\_gb.py:437: DataConversionWarning: A column-vector y was passed when a 1d array was expected. Please change the shape of y to (n_samples, ), for example using ravel().\n",
      "  y = column_or_1d(y, warn=True)\n",
      "C:\\Users\\timbl\\AppData\\Roaming\\Python\\Python310\\site-packages\\sklearn\\ensemble\\_gb.py:437: DataConversionWarning: A column-vector y was passed when a 1d array was expected. Please change the shape of y to (n_samples, ), for example using ravel().\n",
      "  y = column_or_1d(y, warn=True)\n",
      "C:\\Users\\timbl\\AppData\\Roaming\\Python\\Python310\\site-packages\\sklearn\\ensemble\\_gb.py:437: DataConversionWarning: A column-vector y was passed when a 1d array was expected. Please change the shape of y to (n_samples, ), for example using ravel().\n",
      "  y = column_or_1d(y, warn=True)\n",
      "C:\\Users\\timbl\\AppData\\Roaming\\Python\\Python310\\site-packages\\sklearn\\ensemble\\_gb.py:437: DataConversionWarning: A column-vector y was passed when a 1d array was expected. Please change the shape of y to (n_samples, ), for example using ravel().\n",
      "  y = column_or_1d(y, warn=True)\n",
      "C:\\Users\\timbl\\AppData\\Roaming\\Python\\Python310\\site-packages\\sklearn\\ensemble\\_gb.py:437: DataConversionWarning: A column-vector y was passed when a 1d array was expected. Please change the shape of y to (n_samples, ), for example using ravel().\n",
      "  y = column_or_1d(y, warn=True)\n",
      "C:\\Users\\timbl\\AppData\\Roaming\\Python\\Python310\\site-packages\\sklearn\\ensemble\\_gb.py:437: DataConversionWarning: A column-vector y was passed when a 1d array was expected. Please change the shape of y to (n_samples, ), for example using ravel().\n",
      "  y = column_or_1d(y, warn=True)\n"
     ]
    },
    {
     "name": "stdout",
     "output_type": "stream",
     "text": [
      "0.42064831097103106\n",
      "2301918061.949946\n"
     ]
    }
   ],
   "source": [
    "from sklearn.pipeline import Pipeline\n",
    "from sklearn.metrics import r2_score, mean_squared_error\n",
    "from sklearn.model_selection import cross_val_score, KFold\n",
    "import numpy as np\n",
    "\n",
    "steps = [('estimator', estimator)]\n",
    "\n",
    "pipeline = Pipeline(steps)\n",
    "\n",
    "kfold = KFold(n_splits=5, shuffle=True, random_state = 42)\n",
    "\n",
    "r2_scores = cross_val_score(pipeline, df_preprocessed_general, target, cv=kfold, scoring='r2')\n",
    "mse_scores = -cross_val_score(pipeline, df_preprocessed_general, target, cv=kfold, scoring='neg_mean_squared_error')\n",
    "\n",
    "\n",
    "print(np.mean(r2_scores))\n",
    "print(np.mean(mse_scores))"
   ]
  },
  {
   "cell_type": "code",
   "execution_count": 11,
   "metadata": {},
   "outputs": [
    {
     "name": "stdout",
     "output_type": "stream",
     "text": [
      "best score is 0.4331969080281256 with params {'learning_rate': 0.01, 'max_depth': 5, 'n_estimators': 1000}\n"
     ]
    }
   ],
   "source": [
    "from sklearn.ensemble import GradientBoostingRegressor\n",
    "from sklearn.model_selection import GridSearchCV\n",
    "from sklearn.model_selection import KFold \n",
    "\n",
    "# Modell initialisieren\n",
    "regressor = GradientBoostingRegressor()\n",
    "\n",
    "# Parameter Grid für Grid Search definieren\n",
    "parameters = {\n",
    "    'n_estimators': [100, 500, 1000],\n",
    "    'learning_rate': [0.01, 0.1, 1],\n",
    "    'max_depth': [2, 3, 5]\n",
    "}\n",
    "\n",
    "k_10_fold_cv = KFold(n_splits=10, shuffle=True, random_state=42)\n",
    "\n",
    "# Grid Search initialisieren\n",
    "grid_search_estimator = GridSearchCV(regressor, parameters, scoring='r2', cv=k_10_fold_cv, return_train_score=False)\n",
    "\n",
    "grid_search_estimator.fit(df_preprocessed_general,target)\n",
    "\n",
    "#results = pd.DataFrame(grid_search_estimator.cv_results_)\n",
    "    \n",
    "# print the best parameter setting\n",
    "print(\"best score is {} with params {}\".format(grid_search_estimator.best_score_, grid_search_estimator.best_params_))\n"
   ]
  },
  {
   "cell_type": "code",
   "execution_count": 15,
   "metadata": {},
   "outputs": [
    {
     "name": "stdout",
     "output_type": "stream",
     "text": [
      "best score is 0.43718198300279154 with params {'learning_rate': 0.1, 'max_depth': 3, 'max_features': 'auto', 'min_samples_leaf': 2, 'min_samples_split': 2, 'n_estimators': 500}\n"
     ]
    }
   ],
   "source": [
    "from sklearn.ensemble import GradientBoostingRegressor\n",
    "from sklearn.model_selection import GridSearchCV\n",
    "from sklearn.model_selection import KFold \n",
    "\n",
    "# Modell initialisieren\n",
    "regressor = GradientBoostingRegressor()\n",
    "\n",
    "# Parameter Grid für Grid Search definieren\n",
    "parameters = {\n",
    "    'n_estimators': [100, 500, 1000],\n",
    "    'learning_rate': [0.01, 0.1, 1],\n",
    "    'max_depth': [2, 3, 5],\n",
    "    'min_samples_split': [2, 5, 10],\n",
    "    'min_samples_leaf': [1, 2, 4],\n",
    "    'max_features': ['auto', 'sqrt', 'log2']\n",
    "}\n",
    "\n",
    "k_10_fold_cv = KFold(n_splits=10, shuffle=True, random_state=42)\n",
    "\n",
    "# Grid Search initialisieren\n",
    "grid_search_estimator = GridSearchCV(regressor, parameters, scoring='r2', cv=k_10_fold_cv, n_jobs=-1, return_train_score=False)\n",
    "\n",
    "grid_search_estimator.fit(df_preprocessed_general,target)\n",
    "\n",
    "#results = pd.DataFrame(grid_search_estimator.cv_results_)\n",
    "    \n",
    "# print the best parameter setting\n",
    "print(\"best score is {} with params {}\".format(grid_search_estimator.best_score_, grid_search_estimator.best_params_))\n"
   ]
  },
  {
   "cell_type": "code",
   "execution_count": 8,
   "metadata": {},
   "outputs": [
    {
     "name": "stdout",
     "output_type": "stream",
     "text": [
      "best score is 0.4379085157268688 with params {'learning_rate': 0.1, 'max_depth': 10, 'max_features': 'sqrt', 'min_samples_split': 20, 'subsample': 1.0}\n"
     ]
    }
   ],
   "source": [
    "from sklearn.ensemble import GradientBoostingRegressor\n",
    "from sklearn.model_selection import GridSearchCV\n",
    "from sklearn.model_selection import KFold \n",
    "\n",
    "# Modell initialisieren\n",
    "regressor = GradientBoostingRegressor()\n",
    "\n",
    "# Parameter Grid für Grid Search definieren\n",
    "parameters = {\n",
    "    'learning_rate': [0.025, 0.05, 0.1, 0.2, 0.3],\n",
    "    'max_depth': [2, 3, 5, 7, 10, 3800],\n",
    "    'min_samples_split': [2, 5, 10, 20],\n",
    "    'max_features': [0.25, 1.0, 'sqrt', 'log2'],\n",
    "    'subsample': [0.15, 0.5, 0.75, 1.0]\n",
    "}\n",
    "\n",
    "k_10_fold_cv = KFold(n_splits=10, shuffle=True, random_state=42)\n",
    "\n",
    "# Grid Search initialisieren\n",
    "grid_search_estimator = GridSearchCV(regressor, parameters, scoring='r2', cv=k_10_fold_cv, n_jobs=-1, return_train_score=False)\n",
    "\n",
    "grid_search_estimator.fit(df_preprocessed_general,target)\n",
    "\n",
    "#results = pd.DataFrame(grid_search_estimator.cv_results_)\n",
    "    \n",
    "# print the best parameter setting\n",
    "print(\"best score is {} with params {}\".format(grid_search_estimator.best_score_, grid_search_estimator.best_params_))"
   ]
  },
  {
   "cell_type": "code",
   "execution_count": 9,
   "metadata": {},
   "outputs": [
    {
     "name": "stdout",
     "output_type": "stream",
     "text": [
      "best score is 0.43817034079751876 with params {'learning_rate': 0.1, 'max_depth': 10, 'max_features': 'log2', 'min_samples_split': 20, 'subsample': 1.0}\n"
     ]
    }
   ],
   "source": [
    "from sklearn.ensemble import GradientBoostingRegressor\n",
    "from sklearn.model_selection import GridSearchCV\n",
    "from sklearn.model_selection import KFold \n",
    "\n",
    "# Modell initialisieren\n",
    "regressor = GradientBoostingRegressor()\n",
    "\n",
    "# Parameter Grid für Grid Search definieren\n",
    "parameters = {\n",
    "    'learning_rate': [0.1],\n",
    "    'max_depth': [10],\n",
    "    'min_samples_split': [20],\n",
    "    'max_features': ['sqrt', 'log2'],\n",
    "    'subsample': [1.0]\n",
    "}\n",
    "\n",
    "k_10_fold_cv = KFold(n_splits=10, shuffle=True, random_state=42)\n",
    "\n",
    "# Grid Search initialisieren\n",
    "grid_search_estimator = GridSearchCV(regressor, parameters, scoring='r2', cv=k_10_fold_cv, return_train_score=False)\n",
    "\n",
    "grid_search_estimator.fit(df_preprocessed_general,target)\n",
    "\n",
    "#results = pd.DataFrame(grid_search_estimator.cv_results_)\n",
    "    \n",
    "# print the best parameter setting\n",
    "print(\"best score is {} with params {}\".format(grid_search_estimator.best_score_, grid_search_estimator.best_params_))"
   ]
  }
 ],
 "metadata": {
  "kernelspec": {
   "display_name": "Python 3 (ipykernel)",
   "language": "python",
   "name": "python3"
  },
  "language_info": {
   "codemirror_mode": {
    "name": "ipython",
    "version": 3
   },
   "file_extension": ".py",
   "mimetype": "text/x-python",
   "name": "python",
   "nbconvert_exporter": "python",
   "pygments_lexer": "ipython3",
   "version": "3.10.9"
  }
 },
 "nbformat": 4,
 "nbformat_minor": 2
}
