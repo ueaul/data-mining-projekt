{
 "cells": [
  {
   "cell_type": "code",
   "execution_count": 29,
   "metadata": {},
   "outputs": [],
   "source": [
    "import pandas as pd\n",
    "import numpy as np\n",
    "import warnings\n",
    "from scipy.sparse import load_npz\n",
    "from sklearn.svm import SVR\n",
    "from sklearn.pipeline import Pipeline\n",
    "from sklearn.model_selection import cross_val_score, KFold\n",
    "from sklearn.linear_model import LinearRegression\n",
    "from sklearn.metrics import r2_score, mean_squared_error\n",
    "from sklearn.ensemble import GradientBoostingRegressor\n",
    "from sklearn.neural_network import MLPRegressor\n",
    "from xgboost import XGBRegressor"
   ]
  },
  {
   "cell_type": "code",
   "execution_count": 22,
   "metadata": {},
   "outputs": [],
   "source": [
    "df_preprocessed_general_train = load_npz('./ds_salaries_GeneralPreprocessing_train.npz')\n",
    "df_preprocessed_general_test = load_npz('./ds_salaries_GeneralPreprocessing_test.npz')\n",
    "df_preprocessed_BoW_train = load_npz('./ds_salaries_BoWPreprocessing_train.npz')\n",
    "df_preprocessed_BoW_test = load_npz('./ds_salaries_BoWPreprocessing_test.npz')\n",
    "df_preprocessed_oversampling_train = load_npz('./ds_salaries_Oversampling_features_train.npz')\n",
    "\n",
    "\n",
    "df_target_train = pd.read_csv(\"./ds_salaries_target_train.csv\")\n",
    "df_target_test = pd.read_csv(\"./ds_salaries_target_test.csv\")\n",
    "df_target_oversampling_train = pd.read_csv('./ds_salaries_Oversampling_target_train.csv')\n",
    "\n",
    "kfold = KFold(n_splits=10, shuffle=True, random_state=42)"
   ]
  },
  {
   "attachments": {},
   "cell_type": "markdown",
   "metadata": {},
   "source": [
    "# Baseline Model (Linear Regression)"
   ]
  },
  {
   "cell_type": "code",
   "execution_count": 24,
   "metadata": {
    "scrolled": false
   },
   "outputs": [
    {
     "name": "stdout",
     "output_type": "stream",
     "text": [
      "General Preprocessing:\n",
      "Linear Regression R2:  0.42158399970675065\n",
      "Linear Regression MSE:  2320063891.0887156\n",
      "Bag of Words Preprocessing:\n",
      "Linear Regression R2:  0.4116474130363409\n",
      "Linear Regression MSE:  2356355557.826342\n"
     ]
    }
   ],
   "source": [
    "estimator = LinearRegression()\n",
    "\n",
    "steps = [('estimator', estimator)]\n",
    "\n",
    "pipeline = Pipeline(steps)\n",
    "\n",
    "r2_scores = cross_val_score(pipeline, df_preprocessed_general_train, df_target_train, cv=kfold, scoring='r2')\n",
    "mse_scores = -cross_val_score(pipeline, df_preprocessed_general_train, df_target_train, cv=kfold, scoring='neg_mean_squared_error')\n",
    "\n",
    "print(\"General Preprocessing:\")\n",
    "print(\"Linear Regression R2: \", np.mean(r2_scores))\n",
    "print(\"Linear Regression MSE: \", np.mean(mse_scores))\n",
    "\n",
    "r2_scores = cross_val_score(pipeline, df_preprocessed_BoW_train, df_target_train, cv=kfold, scoring='r2')\n",
    "mse_scores = -cross_val_score(pipeline, df_preprocessed_BoW_train, df_target_train, cv=kfold, scoring='neg_mean_squared_error')\n",
    "\n",
    "print(\"Bag of Words Preprocessing:\")\n",
    "print(\"Linear Regression R2: \", np.mean(r2_scores))\n",
    "print(\"Linear Regression MSE: \", np.mean(mse_scores))\n",
    "\n"
   ]
  },
  {
   "cell_type": "code",
   "execution_count": null,
   "metadata": {
    "scrolled": false
   },
   "outputs": [
    {
     "name": "stdout",
     "output_type": "stream",
     "text": [
      "General Preprocessing:\n",
      "Linear Regression R2:  0.4215832371895859\n",
      "Linear Regression MSE:  2320066867.7581606\n",
      "Bag of Words Preprocessing:\n",
      "Linear Regression R2:  0.40788955832863866\n",
      "Linear Regression MSE:  2350872916.9588165\n"
     ]
    }
   ],
   "source": [
    "estimator = LinearRegression()\n",
    "\n",
    "steps = [('estimator', estimator)]\n",
    "\n",
    "pipeline = Pipeline(steps)\n",
    "\n",
    "r2_scores = cross_val_score(pipeline, df_preprocessed_general_train, df_target_train, cv=kfold, scoring='r2')\n",
    "mse_scores = -cross_val_score(pipeline, df_preprocessed_general_train, df_target_train, cv=kfold, scoring='neg_mean_squared_error')\n",
    "\n",
    "print(\"General Preprocessing:\")\n",
    "print(\"Linear Regression R2: \", np.mean(r2_scores))\n",
    "print(\"Linear Regression MSE: \", np.mean(mse_scores))\n",
    "\n",
    "r2_scores = cross_val_score(pipeline, df_preprocessed_BoW_train, df_target_train, cv=kfold, scoring='r2')\n",
    "mse_scores = -cross_val_score(pipeline, df_preprocessed_BoW_train, df_target, cv=kfold, scoring='neg_mean_squared_error')\n",
    "\n",
    "print(\"Bag of Words Preprocessing:\")\n",
    "print(\"Linear Regression R2: \", np.mean(r2_scores))\n",
    "print(\"Linear Regression MSE: \", np.mean(mse_scores))\n",
    "\n"
   ]
  },
  {
   "cell_type": "code",
   "execution_count": null,
   "metadata": {
    "scrolled": false
   },
   "outputs": [
    {
     "name": "stdout",
     "output_type": "stream",
     "text": [
      "General Preprocessing:\n",
      "Linear Regression R2:  0.38425054897723754\n",
      "Linear Regression MSE:  2430849423.925842\n",
      "Bag of Words Preprocessing:\n",
      "Linear Regression R2:  0.40788955832863866\n",
      "Linear Regression MSE:  2350872916.9588165\n"
     ]
    }
   ],
   "source": [
    "estimator = LinearRegression()\n",
    "\n",
    "steps = [('estimator', estimator)]\n",
    "\n",
    "pipeline = Pipeline(steps)\n",
    "\n",
    "pipeline.fit(df_preprocessed_general_train, df_target_train)\n",
    "predictions = pipeline.predict(df_preprocessed_general_test)\n",
    "\n",
    "r2_score_holdout = r2_score(df_target_test, predictions)\n",
    "mse_score_holdout = mean_squared_error(df_target_test, predictions)\n",
    "\n",
    "print(\"General Preprocessing:\")\n",
    "print(\"Linear Regression R2: \",  r2_score_holdout)\n",
    "print(\"Linear Regression MSE: \", mse_score_holdout)\n",
    "\n",
    "print(\"Bag of Words Preprocessing:\")\n",
    "print(\"Linear Regression R2: \", np.mean(r2_scores))\n",
    "print(\"Linear Regression MSE: \", np.mean(mse_scores))\n",
    "\n"
   ]
  },
  {
   "attachments": {},
   "cell_type": "markdown",
   "metadata": {},
   "source": [
    "# Gradient Boosting Regression"
   ]
  },
  {
   "cell_type": "code",
   "execution_count": null,
   "metadata": {
    "scrolled": true
   },
   "outputs": [
    {
     "name": "stdout",
     "output_type": "stream",
     "text": [
      "General Preprocessing:\n",
      "Gradient Boosting R2:  0.43338823147095235\n",
      "Gradient Boosting MSE:  2248331731.9132476\n",
      "Bag of Words Preprocessing:\n",
      "Gradient Boosting R2:  0.441056136548054\n",
      "Gradient Boosting MSE:  2216641567.392548\n"
     ]
    }
   ],
   "source": [
    "estimator = GradientBoostingRegressor(learning_rate=0.1, max_depth=10, min_samples_split=20, max_features='log2', subsample=1.0, random_state = 42)\n",
    "steps = [('estimator', estimator)]\n",
    "\n",
    "pipeline = Pipeline(steps)\n",
    "\n",
    "r2_scores = cross_val_score(pipeline, df_preprocessed_general, df_target.values.ravel(), cv=kfold, scoring='r2')\n",
    "mse_scores = -cross_val_score(pipeline, df_preprocessed_general, df_target.values.ravel(), cv=kfold, scoring='neg_mean_squared_error')\n",
    "\n",
    "print(\"General Preprocessing:\")\n",
    "print(\"Gradient Boosting R2: \", np.mean(r2_scores))\n",
    "print(\"Gradient Boosting MSE: \", np.mean(mse_scores))\n",
    "\n",
    "r2_scores = cross_val_score(pipeline, df_preprocessed_BoW, df_target.values.ravel(), cv=kfold, scoring='r2')\n",
    "mse_scores = -cross_val_score(pipeline, df_preprocessed_BoW, df_target.values.ravel(), cv=kfold, scoring='neg_mean_squared_error')\n",
    "\n",
    "print(\"Bag of Words Preprocessing:\")\n",
    "print(\"Gradient Boosting R2: \", np.mean(r2_scores))\n",
    "print(\"Gradient Boosting MSE: \", np.mean(mse_scores))"
   ]
  },
  {
   "cell_type": "code",
   "execution_count": null,
   "metadata": {
    "scrolled": true
   },
   "outputs": [
    {
     "name": "stdout",
     "output_type": "stream",
     "text": [
      "General Preprocessing:\n",
      "Gradient Boosting R2:  0.441462930034063\n",
      "Gradient Boosting MSE:  2244044625.480514\n",
      "Bag of Words Preprocessing:\n",
      "Gradient Boosting R2:  0.441056136548054\n",
      "Gradient Boosting MSE:  2216641567.392548\n"
     ]
    }
   ],
   "source": [
    "estimator = GradientBoostingRegressor(learning_rate=0.1, max_depth=10, min_samples_split=20, max_features='log2', subsample=1.0, random_state = 42)\n",
    "steps = [('estimator', estimator)]\n",
    "\n",
    "pipeline = Pipeline(steps)\n",
    "\n",
    "r2_scores = cross_val_score(pipeline, df_preprocessed_general_train, df_target_train.values.ravel(), cv=kfold, scoring='r2')\n",
    "mse_scores = -cross_val_score(pipeline, df_preprocessed_general_train, df_target_train.values.ravel(), cv=kfold, scoring='neg_mean_squared_error')\n",
    "\n",
    "print(\"General Preprocessing:\")\n",
    "print(\"Gradient Boosting R2: \", np.mean(r2_scores))\n",
    "print(\"Gradient Boosting MSE: \", np.mean(mse_scores))\n",
    "\n",
    "r2_scores = cross_val_score(pipeline, df_preprocessed_BoW, df_target.values.ravel(), cv=kfold, scoring='r2')\n",
    "mse_scores = -cross_val_score(pipeline, df_preprocessed_BoW, df_target.values.ravel(), cv=kfold, scoring='neg_mean_squared_error')\n",
    "\n",
    "print(\"Bag of Words Preprocessing:\")\n",
    "print(\"Gradient Boosting R2: \", np.mean(r2_scores))\n",
    "print(\"Gradient Boosting MSE: \", np.mean(mse_scores))"
   ]
  },
  {
   "cell_type": "code",
   "execution_count": null,
   "metadata": {
    "scrolled": false
   },
   "outputs": [
    {
     "name": "stdout",
     "output_type": "stream",
     "text": [
      "General Preprocessing:\n",
      "Gradient Boosting R2:  0.4290101198238734\n",
      "Gradient Boosting MSE:  2254148045.098806\n",
      "Bag of Words Preprocessing:\n",
      "Gradient Boosting R2:  0.441056136548054\n",
      "Gradient Boosting MSE:  2216641567.392548\n"
     ]
    }
   ],
   "source": [
    "estimator = GradientBoostingRegressor(learning_rate=0.1, max_depth=10, min_samples_split=20, max_features='log2', subsample=1.0, random_state = 42)\n",
    "steps = [('estimator', estimator)]\n",
    "\n",
    "pipeline = Pipeline(steps)\n",
    "\n",
    "pipeline.fit(df_preprocessed_general_train, df_target_train)\n",
    "predictions = pipeline.predict(df_preprocessed_general_test)\n",
    "\n",
    "r2_score_holdout = r2_score(df_target_test, predictions)\n",
    "mse_score_holdout = mean_squared_error(df_target_test, predictions)\n",
    "print(\"General Preprocessing:\")\n",
    "print(\"Gradient Boosting R2: \", r2_score_holdout)\n",
    "print(\"Gradient Boosting MSE: \", mse_score_holdout)\n",
    "\n",
    "r2_scores = cross_val_score(pipeline, df_preprocessed_BoW, df_target.values.ravel(), cv=kfold, scoring='r2')\n",
    "mse_scores = -cross_val_score(pipeline, df_preprocessed_BoW, df_target.values.ravel(), cv=kfold, scoring='neg_mean_squared_error')\n",
    "\n",
    "print(\"Bag of Words Preprocessing:\")\n",
    "print(\"Gradient Boosting R2: \", np.mean(r2_scores))\n",
    "print(\"Gradient Boosting MSE: \", np.mean(mse_scores))"
   ]
  },
  {
   "attachments": {},
   "cell_type": "markdown",
   "metadata": {},
   "source": [
    "# eXtreme Boost Regression"
   ]
  },
  {
   "cell_type": "code",
   "execution_count": 31,
   "metadata": {},
   "outputs": [
    {
     "name": "stdout",
     "output_type": "stream",
     "text": [
      "General Preprocessing:  0.42658022214241753\n",
      "Bag-of-Words:  0.4263198258383887\n"
     ]
    }
   ],
   "source": [
    "estimator = XGBRegressor(colsample_bylevel=0.25, gamma=0, learning_rate=0.05, max_depth=5, subsample=0.5, random_state = 42)\n",
    "steps = [('estimator', estimator)]\n",
    "\n",
    "pipeline = Pipeline(steps)\n",
    "\n",
    "pipeline.fit(df_preprocessed_general_train, df_target_train)\n",
    "pred = pipeline.predict(df_preprocessed_general_test)\n",
    "r2 = r2_score(df_target_test, pred)\n",
    "print(\"General Preprocessing: \", r2)\n",
    "\n",
    "\n",
    "pipeline.fit(df_preprocessed_BoW_train, df_target_train)\n",
    "pred = pipeline.predict(df_preprocessed_BoW_test)\n",
    "r2 = r2_score(df_target_test, pred)\n",
    "\n",
    "print(\"Bag-of-Words: \", r2)\n",
    "\n",
    "# r2_scores = cross_val_score(pipeline, df_preprocessed_general, df_target, cv=kfold, scoring='r2')\n",
    "# mse_scores = -cross_val_score(pipeline, df_preprocessed_general, df_target, cv=kfold, scoring='neg_mean_squared_error')\n",
    "\n",
    "# print(\"General Preprocessing:\")\n",
    "# print(\"XGBoost R2: \", np.mean(r2_scores))\n",
    "# print(\"XGBoost MSE: \", np.mean(mse_scores))\n",
    "\n",
    "# r2_scores = cross_val_score(pipeline, df_preprocessed_BoW, df_target, cv=kfold, scoring='r2')\n",
    "# mse_scores = -cross_val_score(pipeline, df_preprocessed_BoW, df_target, cv=kfold, scoring='neg_mean_squared_error')\n",
    "\n",
    "# print(\"Bag of Words Preprocessing:\")\n",
    "# print(\"XGBoost R2: \", np.mean(r2_scores))\n",
    "# print(\"XGBoost MSE: \", np.mean(mse_scores))"
   ]
  },
  {
   "attachments": {},
   "cell_type": "markdown",
   "metadata": {},
   "source": [
    "# ANNs MLP Regressor"
   ]
  },
  {
   "cell_type": "code",
   "execution_count": null,
   "metadata": {},
   "outputs": [
    {
     "name": "stdout",
     "output_type": "stream",
     "text": [
      "General Preprocessing:\n",
      "ANNs MLP Regressor R2:  0.41959051369265277\n",
      "ANNs MLP Regressor MSE:  2303145838.5044823\n",
      "Bag of Words Preprocessing:\n",
      "ANNs MLP Regressor R2:  0.4235546823929238\n",
      "ANNs MLP Regressor MSE:  2289061573.167543\n"
     ]
    }
   ],
   "source": [
    "\n",
    "warnings.filterwarnings('ignore')\n",
    "\n",
    "estimator = MLPRegressor(hidden_layer_sizes= ( 10,), activation='relu', alpha=0.0001, solver='lbfgs', random_state = 42)\n",
    "steps = [('estimator', estimator)]\n",
    "\n",
    "pipeline = Pipeline(steps)\n",
    "\n",
    "r2_scores = cross_val_score(pipeline, df_preprocessed_general, df_target.values.ravel(), cv=kfold, scoring='r2')\n",
    "mse_scores = -cross_val_score(pipeline, df_preprocessed_general, df_target.values.ravel(), cv=kfold, scoring='neg_mean_squared_error')\n",
    "\n",
    "print(\"General Preprocessing:\")\n",
    "print(\"ANNs MLP Regressor R2: \", np.mean(r2_scores))\n",
    "print(\"ANNs MLP Regressor MSE: \", np.mean(mse_scores))\n",
    "\n",
    "r2_scores = cross_val_score(pipeline, df_preprocessed_BoW, df_target, cv=kfold, scoring='r2')\n",
    "mse_scores = -cross_val_score(pipeline, df_preprocessed_BoW, df_target, cv=kfold, scoring='neg_mean_squared_error')\n",
    "\n",
    "print(\"Bag of Words Preprocessing:\")\n",
    "print(\"ANNs MLP Regressor R2: \", np.mean(r2_scores))\n",
    "print(\"ANNs MLP Regressor MSE: \", np.mean(mse_scores))"
   ]
  },
  {
   "attachments": {},
   "cell_type": "markdown",
   "metadata": {},
   "source": [
    "# DNNs MLP Regressor"
   ]
  },
  {
   "cell_type": "code",
   "execution_count": null,
   "metadata": {},
   "outputs": [
    {
     "name": "stdout",
     "output_type": "stream",
     "text": [
      "General Preprocessing:\n",
      "DNNs MLP Regressor R2:  0.4346433555749029\n",
      "DNNs MLP Regressor MSE:  2244625276.584117\n",
      "Bag of Words Preprocessing:\n",
      "DNNs MLP Regressor R2:  0.44003892301282443\n",
      "DNNs MLP Regressor MSE:  2223723372.941045\n"
     ]
    }
   ],
   "source": [
    "warnings.filterwarnings('ignore')\n",
    "\n",
    "estimator = MLPRegressor(hidden_layer_sizes = (10,10,10,10,10,10,10,10,10,10), solver = \"adam\", \n",
    "                         batch_size = 180, alpha = 0.2, activation = \"relu\", \n",
    "                         learning_rate= \"constant\", random_state = 42)\n",
    "steps = [('estimator', estimator)]\n",
    "\n",
    "pipeline = Pipeline(steps)\n",
    "\n",
    "r2_scores = cross_val_score(pipeline, df_preprocessed_general, df_target.values.ravel(), cv=kfold, scoring='r2')\n",
    "mse_scores = -cross_val_score(pipeline, df_preprocessed_general, df_target.values.ravel(), cv=kfold, scoring='neg_mean_squared_error')\n",
    "\n",
    "print(\"General Preprocessing:\")\n",
    "print(\"DNNs MLP Regressor R2: \", np.mean(r2_scores))\n",
    "print(\"DNNs MLP Regressor MSE: \", np.mean(mse_scores))\n",
    "\n",
    "r2_scores = cross_val_score(pipeline, df_preprocessed_BoW, df_target.values.ravel(), cv=kfold, scoring='r2')\n",
    "mse_scores = -cross_val_score(pipeline, df_preprocessed_BoW, df_target.values.ravel(), cv=kfold, scoring='neg_mean_squared_error')\n",
    "\n",
    "print(\"Bag of Words Preprocessing:\")\n",
    "print(\"DNNs MLP Regressor R2: \", np.mean(r2_scores))\n",
    "print(\"DNNs MLP Regressor MSE: \", np.mean(mse_scores))"
   ]
  },
  {
   "attachments": {},
   "cell_type": "markdown",
   "metadata": {},
   "source": [
    "# SVR"
   ]
  },
  {
   "cell_type": "code",
   "execution_count": null,
   "metadata": {},
   "outputs": [
    {
     "name": "stdout",
     "output_type": "stream",
     "text": [
      "General Preprocessing:\n",
      "Gradient Boosting R2:  0.41681724717485824\n",
      "Gradient Boosting MSE:  2302282943.8074102\n",
      "Oversampling:\n",
      "Gradient Boosting R2:  0.41603745845230156\n",
      "Gradient Boosting MSE:  2305361385.800111\n"
     ]
    }
   ],
   "source": [
    "warnings.filterwarnings('ignore')\n",
    "estimator = SVR(C = 100, gamma = 1, kernel = 'poly')\n",
    "steps = [('estimator', estimator)]\n",
    "\n",
    "pipeline = Pipeline(steps)\n",
    "\n",
    "pipeline.fit(df_preprocessed_general_train, df_target_train)\n",
    "predictions = pipeline.predict(df_preprocessed_general_test)\n",
    "\n",
    "# General Preprocessing\n",
    "r2_score_holdout = r2_score(df_target_test, predictions)\n",
    "mse_score_holdout = mean_squared_error(df_target_test, predictions)\n",
    "print(\"General Preprocessing:\")\n",
    "print(\"Gradient Boosting R2: \", r2_score_holdout)\n",
    "print(\"Gradient Boosting MSE: \", mse_score_holdout)\n",
    "\n",
    "# BoW\n",
    "#r2_scores = cross_val_score(pipeline, df_preprocessed_BoW, df_target_test, cv=kfold, scoring='r2')\n",
    "#mse_scores = -cross_val_score(pipeline, df_preprocessed_BoW, df_target_test, cv=kfold, scoring='neg_mean_squared_error')\n",
    "\n",
    "#print(\"Bag of Words Preprocessing:\")\n",
    "#print(\"Linear Regression R2: \", np.mean(r2_scores))\n",
    "#print(\"Linear Regression MSE: \", np.mean(mse_scores))\n",
    "\n",
    "# Oversampling\n",
    "pipeline2 = Pipeline(steps)\n",
    "pipeline2.fit(df_preprocessed_oversampling_train, df_target_oversampling_train)\n",
    "predictions2 = pipeline.predict(df_preprocessed_general_test)\n",
    "\n",
    "# General Preprocessing\n",
    "r2_score_holdout = r2_score(df_target_test, predictions2)\n",
    "mse_score_holdout = mean_squared_error(df_target_test, predictions2)\n",
    "print(\"Oversampling:\")\n",
    "print(\"Gradient Boosting R2: \", r2_score_holdout)\n",
    "print(\"Gradient Boosting MSE: \", mse_score_holdout)"
   ]
  }
 ],
 "metadata": {
  "kernelspec": {
   "display_name": "Python 3 (ipykernel)",
   "language": "python",
   "name": "python3"
  },
  "language_info": {
   "codemirror_mode": {
    "name": "ipython",
    "version": 3
   },
   "file_extension": ".py",
   "mimetype": "text/x-python",
   "name": "python",
   "nbconvert_exporter": "python",
   "pygments_lexer": "ipython3",
   "version": "3.8.5"
  }
 },
 "nbformat": 4,
 "nbformat_minor": 2
}
