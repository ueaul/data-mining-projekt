{
 "cells": [
  {
   "cell_type": "code",
   "execution_count": 5,
   "id": "b8182919",
   "metadata": {},
   "outputs": [],
   "source": [
    "import pandas as pd\n",
    "from sklearn.preprocessing import OneHotEncoder, OrdinalEncoder\n",
    "from sklearn.compose import ColumnTransformer\n",
    "import warnings\n",
    "warnings.filterwarnings('ignore')\n"
   ]
  },
  {
   "cell_type": "code",
   "execution_count": 9,
   "id": "0325b310",
   "metadata": {},
   "outputs": [],
   "source": [
    "from scipy.sparse import load_npz\n",
    "\n",
    "df_preprocessed = load_npz('./ds_salaries_BoWPreprocessing.npz')\n",
    "target = pd.read_csv(\"./ds_salaries_target.csv\")"
   ]
  },
  {
   "cell_type": "markdown",
   "id": "d0e89269",
   "metadata": {},
   "source": [
    "# init Model"
   ]
  },
  {
   "cell_type": "code",
   "execution_count": 7,
   "id": "9ceb6763",
   "metadata": {},
   "outputs": [],
   "source": [
    "from sklearn.neural_network import MLPRegressor\n",
    "from sklearn.datasets import make_regression\n",
    "from sklearn.model_selection import train_test_split\n",
    "from sklearn.model_selection import KFold \n",
    "from sklearn.model_selection import GridSearchCV\n",
    "from sklearn.model_selection import StratifiedKFold"
   ]
  },
  {
   "cell_type": "code",
   "execution_count": 8,
   "id": "5a271667",
   "metadata": {},
   "outputs": [
    {
     "ename": "NameError",
     "evalue": "name 'df_preprocessed' is not defined",
     "output_type": "error",
     "traceback": [
      "\u001b[1;31m---------------------------------------------------------------------------\u001b[0m",
      "\u001b[1;31mNameError\u001b[0m                                 Traceback (most recent call last)",
      "\u001b[1;32m~\\AppData\\Local\\Temp\\ipykernel_15624\\2663515580.py\u001b[0m in \u001b[0;36m<module>\u001b[1;34m\u001b[0m\n\u001b[0;32m     12\u001b[0m \u001b[0mgrid_search_estimator\u001b[0m \u001b[1;33m=\u001b[0m \u001b[0mGridSearchCV\u001b[0m\u001b[1;33m(\u001b[0m\u001b[0mregressor\u001b[0m\u001b[1;33m,\u001b[0m \u001b[0mparameters\u001b[0m\u001b[1;33m,\u001b[0m \u001b[0mscoring\u001b[0m\u001b[1;33m=\u001b[0m\u001b[1;34m'r2'\u001b[0m\u001b[1;33m,\u001b[0m \u001b[0mcv\u001b[0m\u001b[1;33m=\u001b[0m\u001b[0mk_10_fold_cv\u001b[0m\u001b[1;33m,\u001b[0m \u001b[0mreturn_train_score\u001b[0m\u001b[1;33m=\u001b[0m\u001b[1;32mFalse\u001b[0m\u001b[1;33m)\u001b[0m\u001b[1;33m\u001b[0m\u001b[1;33m\u001b[0m\u001b[0m\n\u001b[0;32m     13\u001b[0m \u001b[1;33m\u001b[0m\u001b[0m\n\u001b[1;32m---> 14\u001b[1;33m \u001b[0mgrid_search_estimator\u001b[0m\u001b[1;33m.\u001b[0m\u001b[0mfit\u001b[0m\u001b[1;33m(\u001b[0m\u001b[0mdf_preprocessed\u001b[0m\u001b[1;33m,\u001b[0m\u001b[0mtarget\u001b[0m\u001b[1;33m)\u001b[0m\u001b[1;33m\u001b[0m\u001b[1;33m\u001b[0m\u001b[0m\n\u001b[0m\u001b[0;32m     15\u001b[0m \u001b[1;33m\u001b[0m\u001b[0m\n\u001b[0;32m     16\u001b[0m \u001b[0mresults\u001b[0m \u001b[1;33m=\u001b[0m \u001b[0mpd\u001b[0m\u001b[1;33m.\u001b[0m\u001b[0mDataFrame\u001b[0m\u001b[1;33m(\u001b[0m\u001b[0mgrid_search_estimator\u001b[0m\u001b[1;33m.\u001b[0m\u001b[0mcv_results_\u001b[0m\u001b[1;33m)\u001b[0m\u001b[1;33m\u001b[0m\u001b[1;33m\u001b[0m\u001b[0m\n",
      "\u001b[1;31mNameError\u001b[0m: name 'df_preprocessed' is not defined"
     ]
    }
   ],
   "source": [
    "regressor = MLPRegressor()\n",
    "\n",
    "parameters = {\n",
    "    \"hidden_layer_sizes\": [(100,100),(100,100,100),(10,10,10,10,10,10,10,10,10)],\n",
    "    \"solver\": [\"lbfgs\", \"sgd\", \"adam\"]\n",
    "}\n",
    "\n",
    "#Prüfen welches sinnvoller ist in Bezug auf Regression. Laut ChatGPT ist es KFold.\n",
    "k_10_fold_cv = KFold(n_splits=10, shuffle=True, random_state=42)\n",
    "stratified_10_fold_cv = StratifiedKFold(n_splits=10, shuffle=True, random_state=42)\n",
    "\n",
    "grid_search_estimator = GridSearchCV(regressor, parameters, scoring='r2', cv=k_10_fold_cv, return_train_score=False)\n",
    "\n",
    "grid_search_estimator.fit(df_preprocessed,target)\n",
    "\n",
    "results = pd.DataFrame(grid_search_estimator.cv_results_)\n",
    "print(results)\n",
    "    \n",
    "# print the best parameter setting\n",
    "print(\"best score is {} with params {}\".format(grid_search_estimator.best_score_, grid_search_estimator.best_params_))"
   ]
  },
  {
   "cell_type": "code",
   "execution_count": 34,
   "id": "b44db0ee",
   "metadata": {},
   "outputs": [
    {
     "name": "stdout",
     "output_type": "stream",
     "text": [
      "   mean_fit_time  std_fit_time  mean_score_time  std_score_time  \\\n",
      "0       3.007595      0.246308         0.003574        0.006168   \n",
      "1       3.739567      3.059376         0.001563        0.004690   \n",
      "2       7.658335      0.809924         0.001411        0.003232   \n",
      "3      21.463450     11.794150         0.007254        0.007766   \n",
      "4      29.255870      0.610951         0.005954        0.002481   \n",
      "5      22.885223      4.246790         0.004817        0.005965   \n",
      "6       3.820160      1.749571         0.000157        0.000471   \n",
      "7       7.337113      2.241766         0.000000        0.000000   \n",
      "8       8.909608      0.559159         0.003129        0.006259   \n",
      "\n",
      "                            param_hidden_layer_sizes param_solver  \\\n",
      "0           (10, 10, 10, 10, 10, 10, 10, 10, 10, 10)        lbfgs   \n",
      "1           (10, 10, 10, 10, 10, 10, 10, 10, 10, 10)          sgd   \n",
      "2           (10, 10, 10, 10, 10, 10, 10, 10, 10, 10)         adam   \n",
      "3  (100, 100, 100, 100, 100, 100, 100, 100, 100, ...        lbfgs   \n",
      "4  (100, 100, 100, 100, 100, 100, 100, 100, 100, ...          sgd   \n",
      "5  (100, 100, 100, 100, 100, 100, 100, 100, 100, ...         adam   \n",
      "6  (10, 10, 10, 10, 10, 10, 10, 10, 10, 10, 10, 1...        lbfgs   \n",
      "7  (10, 10, 10, 10, 10, 10, 10, 10, 10, 10, 10, 1...          sgd   \n",
      "8  (10, 10, 10, 10, 10, 10, 10, 10, 10, 10, 10, 1...         adam   \n",
      "\n",
      "                                              params  split0_test_score  \\\n",
      "0  {'hidden_layer_sizes': (10, 10, 10, 10, 10, 10...       3.860758e-01   \n",
      "1  {'hidden_layer_sizes': (10, 10, 10, 10, 10, 10...      -4.716043e+44   \n",
      "2  {'hidden_layer_sizes': (10, 10, 10, 10, 10, 10...       3.922516e-01   \n",
      "3  {'hidden_layer_sizes': (100, 100, 100, 100, 10...       3.739358e-01   \n",
      "4  {'hidden_layer_sizes': (100, 100, 100, 100, 10...                NaN   \n",
      "5  {'hidden_layer_sizes': (100, 100, 100, 100, 10...       3.684269e-01   \n",
      "6  {'hidden_layer_sizes': (10, 10, 10, 10, 10, 10...       3.792443e-01   \n",
      "7  {'hidden_layer_sizes': (10, 10, 10, 10, 10, 10...                NaN   \n",
      "8  {'hidden_layer_sizes': (10, 10, 10, 10, 10, 10...      -1.246370e-03   \n",
      "\n",
      "   split1_test_score  split2_test_score  split3_test_score  split4_test_score  \\\n",
      "0       4.238695e-01       3.505241e-01       3.675045e-01           0.434987   \n",
      "1      -3.722337e+49      -1.407612e+78     -1.357782e+275                NaN   \n",
      "2       4.319877e-01       3.628054e-01       4.303283e-01           0.436333   \n",
      "3       1.215963e-01       3.316014e-01      -2.639690e-01           0.379392   \n",
      "4                NaN                NaN                NaN                NaN   \n",
      "5       3.445975e-01       3.505874e-01       3.566459e-01           0.422119   \n",
      "6       4.228813e-01       3.302774e-01       3.972784e-01           0.442673   \n",
      "7                NaN      -1.143136e+50                NaN                NaN   \n",
      "8       4.148938e-01       3.570432e-01       3.929297e-01           0.447536   \n",
      "\n",
      "   split5_test_score  split6_test_score  split7_test_score  split8_test_score  \\\n",
      "0           0.361071           0.441875           0.427373           0.546712   \n",
      "1                NaN                NaN          -0.008419                NaN   \n",
      "2           0.348013           0.428844           0.434902           0.552394   \n",
      "3           0.326836           0.345168           0.410259           0.531952   \n",
      "4                NaN                NaN                NaN                NaN   \n",
      "5           0.334913           0.351993           0.351079           0.520485   \n",
      "6          -0.218313           0.420149           0.430313           0.532584   \n",
      "7                NaN                NaN                NaN                NaN   \n",
      "8           0.360966           0.445103           0.434527           0.547541   \n",
      "\n",
      "   split9_test_score  mean_test_score  std_test_score  rank_test_score  \n",
      "0       4.683112e-01         0.420830        0.056001                2  \n",
      "1      -5.294538e+20              NaN             NaN                7  \n",
      "2       4.862919e-01         0.430415        0.055569                1  \n",
      "3       1.334556e-01         0.269023        0.212018                6  \n",
      "4                NaN              NaN             NaN                8  \n",
      "5       4.435293e-01         0.384438        0.056392                4  \n",
      "6      -8.701055e-03         0.312839        0.223590                5  \n",
      "7                NaN              NaN             NaN                9  \n",
      "8       4.745094e-01         0.387380        0.139947                3  \n",
      "best score is 0.4304151550696965 with params {'hidden_layer_sizes': (10, 10, 10, 10, 10, 10, 10, 10, 10, 10), 'solver': 'adam'}\n"
     ]
    }
   ],
   "source": [
    "regressor = MLPRegressor()\n",
    "\n",
    "parameters = {\n",
    "    \"hidden_layer_sizes\": [(10,10,10,10,10,10,10,10,10,10),(100,100,100,100,100,100,100,100,100,100),(10,10,10,10,10,10,10,10,10,10,10,10,10,10,10)],\n",
    "    \"solver\": [\"lbfgs\", \"sgd\", \"adam\"]\n",
    "}\n",
    "\n",
    "#Prüfen welches sinnvoller ist in Bezug auf Regression. Laut ChatGPT ist es KFold.\n",
    "k_10_fold_cv = KFold(n_splits=10, shuffle=True, random_state=42)\n",
    "stratified_10_fold_cv = StratifiedKFold(n_splits=10, shuffle=True, random_state=42)\n",
    "\n",
    "grid_search_estimator = GridSearchCV(regressor, parameters, scoring='r2', cv=k_10_fold_cv, return_train_score=False)\n",
    "\n",
    "grid_search_estimator.fit(df_preprocessed,target)\n",
    "\n",
    "results = pd.DataFrame(grid_search_estimator.cv_results_)\n",
    "print(results)\n",
    "    \n",
    "# print the best parameter setting\n",
    "print(\"best score is {} with params {}\".format(grid_search_estimator.best_score_, grid_search_estimator.best_params_))"
   ]
  },
  {
   "cell_type": "code",
   "execution_count": 10,
   "id": "cc7013f3",
   "metadata": {},
   "outputs": [
    {
     "name": "stdout",
     "output_type": "stream",
     "text": [
      "Best score is 0.43652118649858274 with params {'activation': 'relu', 'alpha': 0.1, 'batch_size': 128, 'hidden_layer_sizes': (10, 10, 10, 10, 10, 10, 10, 10, 10, 10), 'learning_rate': 'constant', 'solver': 'adam'}\n"
     ]
    },
    {
     "ename": "NameError",
     "evalue": "name 'validation_score' is not defined",
     "output_type": "error",
     "traceback": [
      "\u001b[1;31m---------------------------------------------------------------------------\u001b[0m",
      "\u001b[1;31mNameError\u001b[0m                                 Traceback (most recent call last)",
      "\u001b[1;32m~\\AppData\\Local\\Temp\\ipykernel_15624\\1136136306.py\u001b[0m in \u001b[0;36m<module>\u001b[1;34m\u001b[0m\n\u001b[0;32m     21\u001b[0m \u001b[1;31m# print the best parameter setting\u001b[0m\u001b[1;33m\u001b[0m\u001b[1;33m\u001b[0m\u001b[0m\n\u001b[0;32m     22\u001b[0m \u001b[0mprint\u001b[0m\u001b[1;33m(\u001b[0m\u001b[1;34m\"Best score is {} with params {}\"\u001b[0m\u001b[1;33m.\u001b[0m\u001b[0mformat\u001b[0m\u001b[1;33m(\u001b[0m\u001b[0mgrid_search_estimator\u001b[0m\u001b[1;33m.\u001b[0m\u001b[0mbest_score_\u001b[0m\u001b[1;33m,\u001b[0m \u001b[0mgrid_search_estimator\u001b[0m\u001b[1;33m.\u001b[0m\u001b[0mbest_params_\u001b[0m\u001b[1;33m)\u001b[0m\u001b[1;33m)\u001b[0m\u001b[1;33m\u001b[0m\u001b[1;33m\u001b[0m\u001b[0m\n\u001b[1;32m---> 23\u001b[1;33m \u001b[0mprint\u001b[0m\u001b[1;33m(\u001b[0m\u001b[1;34m\"Test score: {}\"\u001b[0m\u001b[1;33m.\u001b[0m\u001b[0mformat\u001b[0m\u001b[1;33m(\u001b[0m\u001b[0mvalidation_score\u001b[0m\u001b[1;33m)\u001b[0m\u001b[1;33m)\u001b[0m\u001b[1;33m\u001b[0m\u001b[1;33m\u001b[0m\u001b[0m\n\u001b[0m",
      "\u001b[1;31mNameError\u001b[0m: name 'validation_score' is not defined"
     ]
    }
   ],
   "source": [
    "regressor = MLPRegressor(random_state=42)\n",
    "\n",
    "parameters = {\n",
    "    \"hidden_layer_sizes\": [(10,10,10,10,10,10,10,10,10,10)],\n",
    "    \"solver\": [\"lbfgs\", \"sgd\", \"adam\"],\n",
    "    \"activation\": [\"relu\", \"tanh\", \"identity\", \"logistic\"],\n",
    "    'alpha': [0.01, 0.1],\n",
    "    \"batch_size\": [32,64,128],\n",
    "    \"learning_rate\": [\"constant\", \"invscaling\", \"adaptive\"],\n",
    "}\n",
    "\n",
    "\n",
    "k_10_fold_cv = KFold(n_splits=10, shuffle=True, random_state=42)\n",
    "\n",
    "grid_search_estimator = GridSearchCV(regressor, parameters, scoring='r2', cv=k_10_fold_cv, return_train_score=False)\n",
    "\n",
    "#Trainieren \n",
    "grid_search_estimator.fit(df_preprocessed,target)\n",
    "\n",
    "    \n",
    "# print the best parameter setting\n",
    "print(\"Best score is {} with params {}\".format(grid_search_estimator.best_score_, grid_search_estimator.best_params_))"
   ]
  },
  {
   "cell_type": "code",
   "execution_count": 11,
   "id": "61c8a51c",
   "metadata": {},
   "outputs": [
    {
     "name": "stdout",
     "output_type": "stream",
     "text": [
      "Best score is 0.4396351703188882 with params {'activation': 'relu', 'alpha': 0.1, 'batch_size': 200, 'hidden_layer_sizes': (10, 10, 10, 10, 10, 10, 10, 10, 10, 10), 'learning_rate': 'constant', 'solver': 'adam'}\n"
     ]
    }
   ],
   "source": [
    "regressor = MLPRegressor(random_state=42)\n",
    "\n",
    "parameters = {\n",
    "    \"hidden_layer_sizes\": [(10,10,10,10,10,10,10,10,10,10)],\n",
    "    \"solver\": [\"adam\"],\n",
    "    \"activation\": [\"relu\"],\n",
    "    'alpha': [0.1,0.05,0.01],\n",
    "    \"batch_size\": [128,150,200],\n",
    "    \"learning_rate\": [\"constant\"],\n",
    "}\n",
    "\n",
    "\n",
    "k_10_fold_cv = KFold(n_splits=10, shuffle=True, random_state=42)\n",
    "\n",
    "grid_search_estimator = GridSearchCV(regressor, parameters, scoring='r2', cv=k_10_fold_cv, return_train_score=False)\n",
    "\n",
    "#Trainieren \n",
    "grid_search_estimator.fit(df_preprocessed,target)\n",
    "\n",
    "    \n",
    "# print the best parameter setting\n",
    "print(\"Best score is {} with params {}\".format(grid_search_estimator.best_score_, grid_search_estimator.best_params_))"
   ]
  },
  {
   "cell_type": "code",
   "execution_count": 13,
   "id": "1cb445a3",
   "metadata": {},
   "outputs": [
    {
     "name": "stdout",
     "output_type": "stream",
     "text": [
      "Best score is 0.44003892301282443 with params {'activation': 'relu', 'alpha': 0.2, 'batch_size': 180, 'hidden_layer_sizes': (10, 10, 10, 10, 10, 10, 10, 10, 10, 10), 'learning_rate': 'constant', 'solver': 'adam'}\n"
     ]
    }
   ],
   "source": [
    "regressor = MLPRegressor(random_state=42)\n",
    "\n",
    "parameters = {\n",
    "    \"hidden_layer_sizes\": [(10,10,10,10,10,10,10,10,10,10)],\n",
    "    \"solver\": [\"adam\"],\n",
    "    \"activation\": [\"relu\"],\n",
    "    'alpha': [0.2,0.1,0.09],\n",
    "    \"batch_size\": [180,200,220],\n",
    "    \"learning_rate\": [\"constant\"],\n",
    "}\n",
    "\n",
    "\n",
    "k_10_fold_cv = KFold(n_splits=10, shuffle=True, random_state=42)\n",
    "\n",
    "grid_search_estimator = GridSearchCV(regressor, parameters, scoring='r2', cv=k_10_fold_cv, return_train_score=False)\n",
    "\n",
    "#Trainieren \n",
    "grid_search_estimator.fit(df_preprocessed,target)\n",
    "\n",
    "    \n",
    "# print the best parameter setting\n",
    "print(\"Best score is {} with params {}\".format(grid_search_estimator.best_score_, grid_search_estimator.best_params_))"
   ]
  },
  {
   "cell_type": "code",
   "execution_count": 15,
   "id": "c47a28af",
   "metadata": {},
   "outputs": [
    {
     "name": "stdout",
     "output_type": "stream",
     "text": [
      "Best score is 0.44003892301282443 with params {'activation': 'relu', 'alpha': 0.2, 'batch_size': 180, 'hidden_layer_sizes': (10, 10, 10, 10, 10, 10, 10, 10, 10, 10), 'learning_rate': 'constant', 'solver': 'adam'}\n"
     ]
    }
   ],
   "source": [
    "regressor = MLPRegressor(random_state=42)\n",
    "\n",
    "parameters = {\n",
    "    \"hidden_layer_sizes\": [(10,10,10,10,10,10,10,10,10,10)],\n",
    "    \"solver\": [\"adam\"],\n",
    "    \"activation\": [\"relu\"],\n",
    "    'alpha': [0.15,0.2],\n",
    "    \"batch_size\": [175,180,185],\n",
    "    \"learning_rate\": [\"constant\"],\n",
    "}\n",
    "\n",
    "\n",
    "k_10_fold_cv = KFold(n_splits=10, shuffle=True, random_state=42)\n",
    "\n",
    "grid_search_estimator = GridSearchCV(regressor, parameters, scoring='r2', cv=k_10_fold_cv, return_train_score=False)\n",
    "\n",
    "#Trainieren \n",
    "grid_search_estimator.fit(df_preprocessed,target)\n",
    "\n",
    "    \n",
    "# print the best parameter setting\n",
    "print(\"Best score is {} with params {}\".format(grid_search_estimator.best_score_, grid_search_estimator.best_params_))"
   ]
  },
  {
   "cell_type": "code",
   "execution_count": null,
   "id": "52493ec7",
   "metadata": {},
   "outputs": [],
   "source": [
    "\n"
   ]
  }
 ],
 "metadata": {
  "kernelspec": {
   "display_name": "Python 3 (ipykernel)",
   "language": "python",
   "name": "python3"
  },
  "language_info": {
   "codemirror_mode": {
    "name": "ipython",
    "version": 3
   },
   "file_extension": ".py",
   "mimetype": "text/x-python",
   "name": "python",
   "nbconvert_exporter": "python",
   "pygments_lexer": "ipython3",
   "version": "3.9.13"
  }
 },
 "nbformat": 4,
 "nbformat_minor": 5
}
